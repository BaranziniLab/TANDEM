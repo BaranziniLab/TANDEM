{
 "cells": [
  {
   "cell_type": "code",
   "execution_count": 1,
   "metadata": {},
   "outputs": [],
   "source": [
    "from utility import *"
   ]
  },
  {
   "cell_type": "markdown",
   "metadata": {},
   "source": [
    "# Load model \n",
    "### ------------------------------ Note --------------------------------\n",
    "       train_flag = False --> Use pre-trained model\n",
    "       train_flag = True --> Train a new model "
   ]
  },
  {
   "cell_type": "code",
   "execution_count": 2,
   "metadata": {},
   "outputs": [
    {
     "name": "stdout",
     "output_type": "stream",
     "text": [
      "Selected to use pre-trained temporal model\n",
      "Loading pre-trained temporal model\n",
      "Selected to use pre-trained non-temporal model\n",
      "Loading pre-trained non-temporal model\n",
      "Selected to use pre-trained TANDEM model\n",
      "Loading pre-trained TANDEM model\n"
     ]
    }
   ],
   "source": [
    "temporal_model = load_model_type(model_type=\"temporal\", train_flag=False)\n",
    "non_temporal_model = load_model_type(model_type=\"non_temporal\", train_flag=False)\n",
    "tandem_model = load_tandem(temporal_model, non_temporal_model, train_flag=False)\n"
   ]
  },
  {
   "cell_type": "markdown",
   "metadata": {},
   "source": [
    "# Compute model predictions"
   ]
  },
  {
   "cell_type": "code",
   "execution_count": 3,
   "metadata": {},
   "outputs": [
    {
     "name": "stdout",
     "output_type": "stream",
     "text": [
      "AUC score of temporal predictions =  0.8\n",
      "AUC score of non-temporal predictions =  0.73\n",
      "AUC score of TANDEM predictions =  0.85\n"
     ]
    }
   ],
   "source": [
    "y_score_temporal = get_predictions(temporal_model, temporal_test_data)\n",
    "print(\"AUC score of temporal predictions = \", round(get_auc(test_metadata.label.values, y_score_temporal), 2))\n",
    "\n",
    "y_score_non_temporal = get_predictions(non_temporal_model, non_temporal_test_data)\n",
    "print(\"AUC score of non-temporal predictions = \", round(get_auc(test_metadata.label.values, y_score_non_temporal), 2))\n",
    "\n",
    "y_score_tandem, optThresh = get_tandem_predictions(tandem_model, \n",
    "                                                   temporal_model, \n",
    "                                                   non_temporal_model, \n",
    "                                                   temporal_test_data, \n",
    "                                                   non_temporal_test_data, \n",
    "                                                   test_metadata)\n",
    "print(\"AUC score of TANDEM predictions = \", round(get_auc(test_metadata.label.values, y_score_tandem), 2))"
   ]
  },
  {
   "cell_type": "code",
   "execution_count": 4,
   "metadata": {},
   "outputs": [
    {
     "name": "stdout",
     "output_type": "stream",
     "text": [
      "********** Patient prediction ***********\n",
      "Label :  PD\n",
      "TANDEM prediction :  PD\n",
      "TANDEM prediction score : 0.75\n"
     ]
    }
   ],
   "source": [
    "# PD patient example\n",
    "patient_index = 14\n",
    "get_tandem_single_patient_prediction(patient_index, \n",
    "                                     optThresh, \n",
    "                                     temporal_model, \n",
    "                                     non_temporal_model, \n",
    "                                     tandem_model, \n",
    "                                     test_metadata)"
   ]
  },
  {
   "cell_type": "code",
   "execution_count": 5,
   "metadata": {},
   "outputs": [
    {
     "name": "stdout",
     "output_type": "stream",
     "text": [
      "********** Patient prediction ***********\n",
      "Label :  Non-PD\n",
      "TANDEM prediction :  Non-PD\n",
      "TANDEM prediction score : 0.04\n"
     ]
    }
   ],
   "source": [
    "# Control patient example\n",
    "patient_index = 34\n",
    "get_tandem_single_patient_prediction(patient_index, \n",
    "                                     optThresh, \n",
    "                                     temporal_model, \n",
    "                                     non_temporal_model, \n",
    "                                     tandem_model, \n",
    "                                     test_metadata)"
   ]
  },
  {
   "cell_type": "code",
   "execution_count": null,
   "metadata": {},
   "outputs": [],
   "source": []
  }
 ],
 "metadata": {
  "kernelspec": {
   "display_name": "Python 3",
   "language": "python",
   "name": "python3"
  },
  "language_info": {
   "codemirror_mode": {
    "name": "ipython",
    "version": 3
   },
   "file_extension": ".py",
   "mimetype": "text/x-python",
   "name": "python",
   "nbconvert_exporter": "python",
   "pygments_lexer": "ipython3",
   "version": "3.7.10"
  }
 },
 "nbformat": 4,
 "nbformat_minor": 4
}
