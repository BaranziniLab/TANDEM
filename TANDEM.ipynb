{
 "cells": [
  {
   "cell_type": "markdown",
   "metadata": {},
   "source": [
    "# ------------------------------ TANDEM model ------------------------------\n",
    "Make sure the machine has more than 24 GB RAM and 8 CPU cores for running this code\n",
    "\n",
    "This code uses knowledge graph representations of patients (called patient SPOKEsig) which you have to download before running this notebook (as mentioned in the [README instructions](https://github.com/BaranziniLab/TANDEM#instructions))."
   ]
  },
  {
   "cell_type": "code",
   "execution_count": 1,
   "metadata": {
    "collapsed": true
   },
   "outputs": [
    {
     "name": "stderr",
     "output_type": "stream",
     "text": [
      "2022-10-03 11:30:42.337183: I tensorflow/core/platform/cpu_feature_guard.cc:193] This TensorFlow binary is optimized with oneAPI Deep Neural Network Library (oneDNN) to use the following CPU instructions in performance-critical operations:  AVX2 AVX512F FMA\n",
      "To enable them in other operations, rebuild TensorFlow with the appropriate compiler flags.\n",
      "2022-10-03 11:30:42.498430: W tensorflow/stream_executor/platform/default/dso_loader.cc:64] Could not load dynamic library 'libcudart.so.11.0'; dlerror: libcudart.so.11.0: cannot open shared object file: No such file or directory\n",
      "2022-10-03 11:30:42.498455: I tensorflow/stream_executor/cuda/cudart_stub.cc:29] Ignore above cudart dlerror if you do not have a GPU set up on your machine.\n",
      "2022-10-03 11:30:42.524697: E tensorflow/stream_executor/cuda/cuda_blas.cc:2981] Unable to register cuBLAS factory: Attempting to register factory for plugin cuBLAS when one has already been registered\n",
      "2022-10-03 11:30:44.596127: W tensorflow/stream_executor/platform/default/dso_loader.cc:64] Could not load dynamic library 'libnvinfer.so.7'; dlerror: libnvinfer.so.7: cannot open shared object file: No such file or directory\n",
      "2022-10-03 11:30:44.596206: W tensorflow/stream_executor/platform/default/dso_loader.cc:64] Could not load dynamic library 'libnvinfer_plugin.so.7'; dlerror: libnvinfer_plugin.so.7: cannot open shared object file: No such file or directory\n",
      "2022-10-03 11:30:44.596213: W tensorflow/compiler/tf2tensorrt/utils/py_utils.cc:38] TF-TRT Warning: Cannot dlopen some TensorRT libraries. If you would like to use Nvidia GPU with TensorRT, please make sure the missing libraries mentioned above are installed properly.\n"
     ]
    }
   ],
   "source": [
    "from utility import *"
   ]
  },
  {
   "cell_type": "markdown",
   "metadata": {},
   "source": [
    "# Load model \n",
    "### ------------------------------ Note --------------------------------\n",
    "       train_flag = False --> Use pre-trained model\n",
    "       train_flag = True --> Train a new model "
   ]
  },
  {
   "cell_type": "code",
   "execution_count": 2,
   "metadata": {
    "collapsed": true
   },
   "outputs": [
    {
     "name": "stdout",
     "output_type": "stream",
     "text": [
      "Selected to use pre-trained temporal model\n",
      "Loading pre-trained temporal model\n"
     ]
    },
    {
     "name": "stderr",
     "output_type": "stream",
     "text": [
      "/pool0/home/karthik/tandem_2/TANDEM/venv/lib/python3.7/site-packages/sklearn/base.py:338: UserWarning: Trying to unpickle estimator DecisionTreeClassifier from version 0.24.1 when using version 1.0.2. This might lead to breaking code or invalid results. Use at your own risk. For more info please refer to:\n",
      "https://scikit-learn.org/stable/modules/model_persistence.html#security-maintainability-limitations\n",
      "  UserWarning,\n",
      "/pool0/home/karthik/tandem_2/TANDEM/venv/lib/python3.7/site-packages/sklearn/base.py:338: UserWarning: Trying to unpickle estimator RandomForestClassifier from version 0.24.1 when using version 1.0.2. This might lead to breaking code or invalid results. Use at your own risk. For more info please refer to:\n",
      "https://scikit-learn.org/stable/modules/model_persistence.html#security-maintainability-limitations\n",
      "  UserWarning,\n"
     ]
    },
    {
     "name": "stdout",
     "output_type": "stream",
     "text": [
      "Selected to use pre-trained non-temporal model\n",
      "Loading pre-trained non-temporal model\n",
      "Selected to use pre-trained TANDEM model\n",
      "Loading pre-trained TANDEM model\n"
     ]
    },
    {
     "name": "stderr",
     "output_type": "stream",
     "text": [
      "2022-10-03 11:30:52.813920: W tensorflow/stream_executor/platform/default/dso_loader.cc:64] Could not load dynamic library 'libcuda.so.1'; dlerror: libcuda.so.1: cannot open shared object file: No such file or directory\n",
      "2022-10-03 11:30:52.813968: W tensorflow/stream_executor/cuda/cuda_driver.cc:263] failed call to cuInit: UNKNOWN ERROR (303)\n",
      "2022-10-03 11:30:52.814006: I tensorflow/stream_executor/cuda/cuda_diagnostics.cc:156] kernel driver does not appear to be running on this host (leo.ucsf.edu): /proc/driver/nvidia/version does not exist\n",
      "2022-10-03 11:30:52.814281: I tensorflow/core/platform/cpu_feature_guard.cc:193] This TensorFlow binary is optimized with oneAPI Deep Neural Network Library (oneDNN) to use the following CPU instructions in performance-critical operations:  AVX2 AVX512F FMA\n",
      "To enable them in other operations, rebuild TensorFlow with the appropriate compiler flags.\n"
     ]
    }
   ],
   "source": [
    "temporal_model = load_model_type(model_type=\"temporal\", train_flag=False)\n",
    "non_temporal_model = load_model_type(model_type=\"non_temporal\", train_flag=False)\n",
    "tandem_model = load_tandem(temporal_model, non_temporal_model, train_flag=False)\n"
   ]
  },
  {
   "cell_type": "markdown",
   "metadata": {},
   "source": [
    "# Compute model predictions"
   ]
  },
  {
   "cell_type": "code",
   "execution_count": 3,
   "metadata": {},
   "outputs": [
    {
     "name": "stdout",
     "output_type": "stream",
     "text": [
      "AUC score of temporal predictions =  0.8\n",
      "AUC score of non-temporal predictions =  0.73\n",
      "63/63 [==============================] - 0s 1ms/step\n",
      "AUC score of TANDEM predictions =  0.85\n"
     ]
    }
   ],
   "source": [
    "y_score_temporal = get_predictions(temporal_model, temporal_test_data)\n",
    "print(\"AUC score of temporal predictions = \", round(get_auc(test_metadata.label.values, y_score_temporal), 2))\n",
    "\n",
    "y_score_non_temporal = get_predictions(non_temporal_model, non_temporal_test_data)\n",
    "print(\"AUC score of non-temporal predictions = \", round(get_auc(test_metadata.label.values, y_score_non_temporal), 2))\n",
    "\n",
    "y_score_tandem, optThresh = get_tandem_predictions(tandem_model, \n",
    "                                                   temporal_model, \n",
    "                                                   non_temporal_model, \n",
    "                                                   temporal_test_data, \n",
    "                                                   non_temporal_test_data, \n",
    "                                                   test_metadata)\n",
    "print(\"AUC score of TANDEM predictions = \", round(get_auc(test_metadata.label.values, y_score_tandem), 2))"
   ]
  },
  {
   "cell_type": "code",
   "execution_count": 4,
   "metadata": {},
   "outputs": [
    {
     "name": "stdout",
     "output_type": "stream",
     "text": [
      "1/1 [==============================] - 0s 26ms/step\n",
      "********** Patient prediction ***********\n",
      "Label :  PD\n",
      "TANDEM prediction :  PD\n",
      "TANDEM prediction score : 0.75\n"
     ]
    }
   ],
   "source": [
    "# PD patient example\n",
    "patient_index = 14\n",
    "get_tandem_single_patient_prediction(patient_index, \n",
    "                                     optThresh, \n",
    "                                     temporal_model, \n",
    "                                     non_temporal_model, \n",
    "                                     tandem_model, \n",
    "                                     test_metadata)"
   ]
  },
  {
   "cell_type": "code",
   "execution_count": 5,
   "metadata": {},
   "outputs": [
    {
     "name": "stdout",
     "output_type": "stream",
     "text": [
      "1/1 [==============================] - 0s 17ms/step\n",
      "********** Patient prediction ***********\n",
      "Label :  Non-PD\n",
      "TANDEM prediction :  Non-PD\n",
      "TANDEM prediction score : 0.04\n"
     ]
    }
   ],
   "source": [
    "# Non-PD patient example\n",
    "patient_index = 34\n",
    "get_tandem_single_patient_prediction(patient_index, \n",
    "                                     optThresh, \n",
    "                                     temporal_model, \n",
    "                                     non_temporal_model, \n",
    "                                     tandem_model, \n",
    "                                     test_metadata)"
   ]
  },
  {
   "cell_type": "code",
   "execution_count": null,
   "metadata": {},
   "outputs": [],
   "source": []
  }
 ],
 "metadata": {
  "kernelspec": {
   "display_name": "Python 3",
   "language": "python",
   "name": "python3"
  },
  "language_info": {
   "codemirror_mode": {
    "name": "ipython",
    "version": 3
   },
   "file_extension": ".py",
   "mimetype": "text/x-python",
   "name": "python",
   "nbconvert_exporter": "python",
   "pygments_lexer": "ipython3",
   "version": "3.7.10"
  }
 },
 "nbformat": 4,
 "nbformat_minor": 4
}
